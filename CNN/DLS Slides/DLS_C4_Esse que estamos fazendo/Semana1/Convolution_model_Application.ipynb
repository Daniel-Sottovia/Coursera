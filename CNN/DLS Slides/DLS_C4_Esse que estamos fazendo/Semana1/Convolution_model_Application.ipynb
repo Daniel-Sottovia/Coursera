{
 "cells": [
  {
   "cell_type": "markdown",
   "metadata": {},
   "source": [
    "# Convolutional Neural Networks: Application\n",
    "\n",
    "Welcome to Course 4's second assignment! In this notebook, you will:\n",
    "\n",
    "- Create a mood classifer using the TF Keras Sequential API\n",
    "- Build a ConvNet to identify sign language digits using the TF Keras Functional API\n",
    "\n",
    "**After this assignment you will be able to:**\n",
    "\n",
    "- Build and train a ConvNet in TensorFlow for a __binary__ classification problem\n",
    "- Build and train a ConvNet in TensorFlow for a __multiclass__ classification problem\n",
    "- Explain different use cases for the Sequential and Functional APIs\n",
    "\n",
    "To complete this assignment, you should already be familiar with TensorFlow. If you are not, please refer back to the **TensorFlow Tutorial** of the third week of Course 2 (\"**Improving deep neural networks**\").\n",
    "\n",
    "## Important Note on Submission to the AutoGrader\n",
    "\n",
    "Before submitting your assignment to the AutoGrader, please make sure you are not doing the following:\n",
    "\n",
    "1. You have not added any _extra_ `print` statement(s) in the assignment.\n",
    "2. You have not added any _extra_ code cell(s) in the assignment.\n",
    "3. You have not changed any of the function parameters.\n",
    "4. You are not using any global variables inside your graded exercises. Unless specifically instructed to do so, please refrain from it and use the local variables instead.\n",
    "5. You are not changing the assignment code where it is not required, like creating _extra_ variables.\n",
    "\n",
    "If you do any of the following, you will get something like, `Grader not found` (or similarly unexpected) error upon submitting your assignment. Before asking for help/debugging the errors in your assignment, check for these first. If this is the case, and you don't remember the changes you have made, you can get a fresh copy of the assignment by following these [instructions](https://www.coursera.org/learn/convolutional-neural-networks/supplement/DS4yP/h-ow-to-refresh-your-workspace)."
   ]
  },
  {
   "cell_type": "markdown",
   "metadata": {},
   "source": [
    "## Table of Contents\n",
    "\n",
    "- [1 - Packages](#1)\n",
    "    - [1.1 - Load the Data and Split the Data into Train/Test Sets](#1-1)\n",
    "- [2 - Layers in TF Keras](#2)\n",
    "- [3 - The Sequential API](#3)\n",
    "    - [3.1 - Create the Sequential Model](#3-1)\n",
    "        - [Exercise 1 - happyModel](#ex-1)\n",
    "    - [3.2 - Train and Evaluate the Model](#3-2)\n",
    "- [4 - The Functional API](#4)\n",
    "    - [4.1 - Load the SIGNS Dataset](#4-1)\n",
    "    - [4.2 - Split the Data into Train/Test Sets](#4-2)\n",
    "    - [4.3 - Forward Propagation](#4-3)\n",
    "        - [Exercise 2 - convolutional_model](#ex-2)\n",
    "    - [4.4 - Train the Model](#4-4)\n",
    "- [5 - History Object](#5)\n",
    "- [6 - Bibliography](#6)"
   ]
  },
  {
   "cell_type": "markdown",
   "metadata": {},
   "source": [
    "<a name='1'></a>\n",
    "## 1 - Packages\n",
    "\n",
    "As usual, begin by loading in the packages."
   ]
  },
  {
   "cell_type": "code",
   "execution_count": 1,
   "metadata": {},
   "outputs": [],
   "source": [
    "import math\n",
    "import numpy as np\n",
    "import h5py\n",
    "import matplotlib.pyplot as plt\n",
    "from matplotlib.pyplot import imread\n",
    "import scipy\n",
    "from PIL import Image\n",
    "import pandas as pd\n",
    "import tensorflow as tf\n",
    "import tensorflow.keras.layers as tfl\n",
    "from tensorflow.python.framework import ops\n",
    "from cnn_utils import *\n",
    "from test_utils import summary, comparator\n",
    "\n",
    "%matplotlib inline\n",
    "np.random.seed(1)"
   ]
  },
  {
   "cell_type": "markdown",
   "metadata": {},
   "source": [
    "<a name='1-1'></a>\n",
    "### 1.1 - Load the Data and Split the Data into Train/Test Sets\n",
    "\n",
    "You'll be using the Happy House dataset for this part of the assignment, which contains images of peoples' faces. Your task will be to build a ConvNet that determines whether the people in the images are smiling or not -- because they only get to enter the house if they're smiling!  "
   ]
  },
  {
   "cell_type": "code",
   "execution_count": 2,
   "metadata": {},
   "outputs": [
    {
     "name": "stdout",
     "output_type": "stream",
     "text": [
      "number of training examples = 600\n",
      "number of test examples = 150\n",
      "X_train shape: (600, 64, 64, 3)\n",
      "Y_train shape: (600, 1)\n",
      "X_test shape: (150, 64, 64, 3)\n",
      "Y_test shape: (150, 1)\n"
     ]
    }
   ],
   "source": [
    "X_train_orig, Y_train_orig, X_test_orig, Y_test_orig, classes = load_happy_dataset()\n",
    "\n",
    "# Normalize image vectors\n",
    "X_train = X_train_orig/255.\n",
    "X_test = X_test_orig/255.\n",
    "\n",
    "# Reshape\n",
    "Y_train = Y_train_orig.T\n",
    "Y_test = Y_test_orig.T\n",
    "\n",
    "print (\"number of training examples = \" + str(X_train.shape[0]))\n",
    "print (\"number of test examples = \" + str(X_test.shape[0]))\n",
    "print (\"X_train shape: \" + str(X_train.shape))\n",
    "print (\"Y_train shape: \" + str(Y_train.shape))\n",
    "print (\"X_test shape: \" + str(X_test.shape))\n",
    "print (\"Y_test shape: \" + str(Y_test.shape))"
   ]
  },
  {
   "cell_type": "markdown",
   "metadata": {},
   "source": [
    "You can display the images contained in the dataset. Images are **64x64** pixels in RGB format (3 channels)."
   ]
  },
  {
   "cell_type": "code",
   "execution_count": 3,
   "metadata": {},
   "outputs": [
    {
     "data": {
      "image/png": "[encoded data removed]",
      "text/plain": [
       "<Figure size 432x288 with 1 Axes>"
      ]
     },
     "metadata": {
      "needs_background": "light"
     },
     "output_type": "display_data"
    }
   ],
   "source": [
    "index = 124\n",
    "plt.imshow(X_train_orig[index]) #display sample training image\n",
    "plt.show()"
   ]
  },
  {
   "cell_type": "markdown",
   "metadata": {},
   "source": [
    "<a name='2'></a>\n",
    "## 2 - Layers in TF Keras \n",
    "\n",
    "In the previous assignment, you created layers manually in numpy. In TF Keras, you don't have to write code directly to create layers. Rather, TF Keras has pre-defined layers you can use. \n",
    "\n",
    "When you create a layer in TF Keras, you are creating a function that takes some input and transforms it into an output you can reuse later. Nice and easy! "
   ]
  },
  {
   "cell_type": "markdown",
   "metadata": {},
   "source": [
    "<a name='3'></a>\n",
    "## 3 - The Sequential API\n",
    "\n",
    "In the previous assignment, you built helper functions using `numpy` to understand the mechanics behind convolutional neural networks. Most practical applications of deep learning today are built using programming frameworks, which have many built-in functions you can simply call. Keras is a high-level abstraction built on top of TensorFlow, which allows for even more simplified and optimized model creation and training. \n",
    "\n",
    "For the first part of this assignment, you'll create a model using TF Keras' Sequential API, which allows you to build layer by layer, and is ideal for building models where each layer has **exactly one** input tensor and **one** output tensor. \n",
    "\n",
    "As you'll see, using the Sequential API is simple and straightforward, but is only appropriate for simpler, more straightforward tasks. Later in this notebook you'll spend some time building with a more flexible, powerful alternative: the Functional API. \n",
    " "
   ]
  },
  {
   "cell_type": "markdown",
   "metadata": {},
   "source": [
    "<a name='3-1'></a>\n",
    "### 3.1 - Create the Sequential Model\n",
    "\n",
    "As mentioned earlier, the TensorFlow Keras Sequential API can be used to build simple models with layer operations that proceed in a sequential order. \n",
    "\n",
    "You can also add layers incrementally to a Sequential model with the `.add()` method, or remove them using the `.pop()` method, much like you would in a regular Python list.\n",
    "\n",
    "Actually, you can think of a Sequential model as behaving like a list of layers. Like Python lists, Sequential layers are ordered, and the order in which they are specified matters.  If your model is non-linear or contains layers with multiple inputs or outputs, a Sequential model wouldn't be the right choice!\n",
    "\n",
    "For any layer construction in Keras, you'll need to specify the input shape in advance. This is because in Keras, the shape of the weights is based on the shape of the inputs. The weights are only created when the model first sees some input data. Sequential models can be created by passing a list of layers to the Sequential constructor, like you will do in the next assignment.\n",
    "\n",
    "<a name='ex-1'></a>\n",
    "### Exercise 1 - happyModel\n",
    "\n",
    "Implement the `happyModel` function below to build the following model: `ZEROPAD2D -> CONV2D -> BATCHNORM -> RELU -> MAXPOOL -> FLATTEN -> DENSE`. Take help from [tf.keras.layers](https://www.tensorflow.org/api_docs/python/tf/keras/layers) \n",
    "\n",
    "Also, plug in the following parameters for all the steps:\n",
    "\n",
    " - [ZeroPadding2D](https://www.tensorflow.org/api_docs/python/tf/keras/layers/ZeroPadding2D): padding 3, input shape 64 x 64 x 3\n",
    " - [Conv2D](https://www.tensorflow.org/api_docs/python/tf/keras/layers/Conv2D): Use 32 7x7 filters, stride 1\n",
    " - [BatchNormalization](https://www.tensorflow.org/api_docs/python/tf/keras/layers/BatchNormalization): for axis 3\n",
    " - [ReLU](https://www.tensorflow.org/api_docs/python/tf/keras/layers/ReLU)\n",
    " - [MaxPool2D](https://www.tensorflow.org/api_docs/python/tf/keras/layers/MaxPool2D): Using default parameters\n",
    " - [Flatten](https://www.tensorflow.org/api_docs/python/tf/keras/layers/Flatten) the previous output.\n",
    " - Fully-connected ([Dense](https://www.tensorflow.org/api_docs/python/tf/keras/layers/Dense)) layer: Apply a fully connected layer with 1 neuron and a sigmoid activation. \n",
    " \n",
    " \n",
    " **Hint:**\n",
    " \n",
    " Use **tfl** as shorthand for **tensorflow.keras.layers**"
   ]
  },
  {
   "cell_type": "code",
   "execution_count": 4,
   "metadata": {
    "deletable": false,
    "nbgrader": {
     "cell_type": "code",
     "checksum": "95d28b191f257bdd5b70c7b8952559d5",
     "grade": false,
     "grade_id": "cell-0e56d3fc28b69aec",
     "locked": false,
     "schema_version": 3,
     "solution": true,
     "task": false
    }
   },
   "outputs": [],
   "source": [
    "# GRADED FUNCTION: happyModel\n",
    "\n",
    "def happyModel():\n",
    "    \"\"\"\n",
    "    Implements the forward propagation for the binary classification model:\n",
    "    ZEROPAD2D -> CONV2D -> BATCHNORM -> RELU -> MAXPOOL -> FLATTEN -> DENSE\n",
    "    \n",
    "    Note that for simplicity and grading purposes, you'll hard-code all the values\n",
    "    such as the stride and kernel (filter) sizes. \n",
    "    Normally, functions should take these values as function parameters.\n",
    "    \n",
    "    Arguments:\n",
    "    None\n",
    "\n",
    "    Returns:\n",
    "    model -- TF Keras model (object containing the information for the entire training process) \n",
    "    \"\"\"\n",
    "    model = tf.keras.Sequential([\n",
    "            ## ZeroPadding2D with padding 3, input shape of 64 x 64 x 3\n",
    "        \n",
    "            ## Conv2D with 32 7x7 filters and stride of 1\n",
    "            \n",
    "            ## BatchNormalization for axis 3\n",
    "            \n",
    "            ## ReLU\n",
    "        \n",
    "            ## Max Pooling 2D with default parameters\n",
    "            \n",
    "            ## Flatten layer\n",
    "            \n",
    "            ## Dense layer with 1 unit for output & 'sigmoid' activation\n",
    "            \n",
    "            # YOUR CODE STARTS HERE\n",
    "        \n",
    "            tf.keras.layers.ZeroPadding2D(padding=(3,3), input_shape=(64,64,3)),\n",
    "            tf.keras.layers.Conv2D(32, (7,7), strides=(1,1), name='conv0'),\n",
    "            tf.keras.layers.BatchNormalization(axis=3, name='bn0'),\n",
    "            tf.keras.layers.ReLU(max_value=None, negative_slope=0.0, threshold=0.0),\n",
    "            tf.keras.layers.MaxPooling2D((2,2), name='max_pool10'),\n",
    "            tf.keras.layers.Flatten(),\n",
    "            tf.keras.layers.Dense(1, activation='sigmoid', name='fc')\n",
    "            # YOUR CODE ENDS HERE\n",
    "        ])\n",
    "    \n",
    "    return model"
   ]
  },
  {
   "cell_type": "code",
   "execution_count": 5,
   "metadata": {
    "deletable": false,
    "editable": false,
    "nbgrader": {
     "cell_type": "code",
     "checksum": "8d3575c950e2e78149be2d05d671c80d",
     "grade": true,
     "grade_id": "cell-e3e1046e5c33d775",
     "locked": true,
     "points": 10,
     "schema_version": 3,
     "solution": false,
     "task": false
    }
   },
   "outputs": [
    {
     "name": "stdout",
     "output_type": "stream",
     "text": [
      "['ZeroPadding2D', (None, 70, 70, 3), 0, ((3, 3), (3, 3))]\n",
      "['Conv2D', (None, 64, 64, 32), 4736, 'valid', 'linear', 'GlorotUniform']\n",
      "['BatchNormalization', (None, 64, 64, 32), 128]\n",
      "['ReLU', (None, 64, 64, 32), 0]\n",
      "['MaxPooling2D', (None, 32, 32, 32), 0, (2, 2), (2, 2), 'valid']\n",
      "['Flatten', (None, 32768), 0]\n",
      "['Dense', (None, 1), 32769, 'sigmoid']\n",
      "\u001b[32mAll tests passed!\u001b[0m\n"
     ]
    }
   ],
   "source": [
    "happy_model = happyModel()\n",
    "# Print a summary for each layer\n",
    "for layer in summary(happy_model):\n",
    "    print(layer)\n",
    "    \n",
    "output = [['ZeroPadding2D', (None, 70, 70, 3), 0, ((3, 3), (3, 3))],\n",
    "            ['Conv2D', (None, 64, 64, 32), 4736, 'valid', 'linear', 'GlorotUniform'],\n",
    "            ['BatchNormalization', (None, 64, 64, 32), 128],\n",
    "            ['ReLU', (None, 64, 64, 32), 0],\n",
    "            ['MaxPooling2D', (None, 32, 32, 32), 0, (2, 2), (2, 2), 'valid'],\n",
    "            ['Flatten', (None, 32768), 0],\n",
    "            ['Dense', (None, 1), 32769, 'sigmoid']]\n",
    "    \n",
    "comparator(summary(happy_model), output)"
   ]
  },
  {
   "cell_type": "markdown",
   "metadata": {},
   "source": [
    "#### Expected Output:\n",
    "\n",
    "```\n",
    "['ZeroPadding2D', (None, 70, 70, 3), 0, ((3, 3), (3, 3))]\n",
    "['Conv2D', (None, 64, 64, 32), 4736, 'valid', 'linear', 'GlorotUniform']\n",
    "['BatchNormalization', (None, 64, 64, 32), 128]\n",
    "['ReLU', (None, 64, 64, 32), 0]\n",
    "['MaxPooling2D', (None, 32, 32, 32), 0, (2, 2), (2, 2), 'valid']\n",
    "['Flatten', (None, 32768), 0]\n",
    "['Dense', (None, 1), 32769, 'sigmoid']\n",
    "All tests passed!\n",
    "```"
   ]
  },
  {
   "cell_type": "markdown",
   "metadata": {},
   "source": [
    "Now that your model is created, you can compile it for training with an optimizer and loss of your choice. When the string `accuracy` is specified as a metric, the type of accuracy used will be automatically converted based on the loss function used. This is one of the many optimizations built into TensorFlow that make your life easier! If you'd like to read more on how the compiler operates, check the docs [here](https://www.tensorflow.org/api_docs/python/tf/keras/Model#compile)."
   ]
  },
  {
   "cell_type": "code",
   "execution_count": 6,
   "metadata": {},
   "outputs": [],
   "source": [
    "happy_model.compile(optimizer='adam',\n",
    "                   loss='binary_crossentropy',\n",
    "                   metrics=['accuracy'])"
   ]
  },
  {
   "cell_type": "markdown",
   "metadata": {},
   "source": [
    "It's time to check your model's parameters with the `.summary()` method. This will display the types of layers you have, the shape of the outputs, and how many parameters are in each layer. "
   ]
  },
  {
   "cell_type": "code",
   "execution_count": 7,
   "metadata": {},
   "outputs": [
    {
     "name": "stdout",
     "output_type": "stream",
     "text": [
      "Model: \"sequential\"\n",
      "_________________________________________________________________\n",
      "Layer (type)                 Output Shape              Param #   \n",
      "=================================================================\n",
      "zero_padding2d (ZeroPadding2 (None, 70, 70, 3)         0         \n",
      "_________________________________________________________________\n",
      "conv0 (Conv2D)               (None, 64, 64, 32)        4736      \n",
      "_________________________________________________________________\n",
      "bn0 (BatchNormalization)     (None, 64, 64, 32)        128       \n",
      "_________________________________________________________________\n",
      "re_lu (ReLU)                 (None, 64, 64, 32)        0         \n",
      "_________________________________________________________________\n",
      "max_pool10 (MaxPooling2D)    (None, 32, 32, 32)        0         \n",
      "_________________________________________________________________\n",
      "flatten (Flatten)            (None, 32768)             0         \n",
      "_________________________________________________________________\n",
      "fc (Dense)                   (None, 1)                 32769     \n",
      "=================================================================\n",
      "Total params: 37,633\n",
      "Trainable params: 37,569\n",
      "Non-trainable params: 64\n",
      "_________________________________________________________________\n"
     ]
    }
   ],
   "source": [
    "happy_model.summary()"
   ]
  },
  {
   "cell_type": "markdown",
   "metadata": {},
   "source": [
    "<a name='3-2'></a>\n",
    "### 3.2 - Train and Evaluate the Model\n",
    "\n",
    "After creating the model, compiling it with your choice of optimizer and loss function, and doing a sanity check on its contents, you are now ready to build! \n",
    "\n",
    "Simply call `.fit()` to train. That's it! No need for mini-batching, saving, or complex backpropagation computations. That's all been done for you, as you're using a TensorFlow dataset with the batches specified already. You do have the option to specify epoch number or minibatch size if you like (for example, in the case of an un-batched dataset)."
   ]
  },
  {
   "cell_type": "code",
   "execution_count": 8,
   "metadata": {},
   "outputs": [
    {
     "name": "stdout",
     "output_type": "stream",
     "text": [
      "Epoch 1/10\n",
      "38/38 [==============================] - 4s 97ms/step - loss: 1.5289 - accuracy: 0.6750\n",
      "Epoch 2/10\n",
      "38/38 [==============================] - 4s 92ms/step - loss: 0.5867 - accuracy: 0.8050\n",
      "Epoch 3/10\n",
      "38/38 [==============================] - 4s 94ms/step - loss: 0.2128 - accuracy: 0.9150\n",
      "Epoch 4/10\n",
      "38/38 [==============================] - 3s 90ms/step - loss: 0.1190 - accuracy: 0.9550\n",
      "Epoch 5/10\n",
      "38/38 [==============================] - 4s 92ms/step - loss: 0.1095 - accuracy: 0.9667\n",
      "Epoch 6/10\n",
      "38/38 [==============================] - 3s 92ms/step - loss: 0.1121 - accuracy: 0.9683\n",
      "Epoch 7/10\n",
      "38/38 [==============================] - 3s 90ms/step - loss: 0.1330 - accuracy: 0.9600\n",
      "Epoch 8/10\n",
      "38/38 [==============================] - 4s 94ms/step - loss: 0.1036 - accuracy: 0.9617\n",
      "Epoch 9/10\n",
      "38/38 [==============================] - 4s 94ms/step - loss: 0.0721 - accuracy: 0.9800\n",
      "Epoch 10/10\n",
      "38/38 [==============================] - 4s 92ms/step - loss: 0.0755 - accuracy: 0.9717\n"
     ]
    },
    {
     "data": {
      "text/plain": [
       "<tensorflow.python.keras.callbacks.History at 0x7fe31d5c9110>"
      ]
     },
     "execution_count": 8,
     "metadata": {},
     "output_type": "execute_result"
    }
   ],
   "source": [
    "happy_model.fit(X_train, Y_train, epochs=10, batch_size=16)"
   ]
  },
  {
   "cell_type": "markdown",
   "metadata": {},
   "source": [
    "After that completes, just use `.evaluate()` to evaluate against your test set. This function will print the value of the loss function and the performance metrics specified during the compilation of the model. In this case, the `binary_crossentropy` and the `accuracy` respectively."
   ]
  },
  {
   "cell_type": "code",
   "execution_count": 9,
   "metadata": {},
   "outputs": [
    {
     "name": "stdout",
     "output_type": "stream",
     "text": [
      "5/5 [==============================] - 0s 22ms/step - loss: 0.4374 - accuracy: 0.7867\n"
     ]
    },
    {
     "data": {
      "text/plain": [
       "[0.4373660683631897, 0.7866666913032532]"
      ]
     },
     "execution_count": 9,
     "metadata": {},
     "output_type": "execute_result"
    }
   ],
   "source": [
    "happy_model.evaluate(X_test, Y_test)"
   ]
  },
  {
   "cell_type": "markdown",
   "metadata": {},
   "source": [
    "Easy, right? But what if you need to build a model with shared layers, branches, or multiple inputs and outputs? This is where Sequential, with its beautifully simple yet limited functionality, won't be able to help you. \n",
    "\n",
    "Next up: Enter the Functional API, your slightly more complex, highly flexible friend.  "
   ]
  },
  {
   "cell_type": "markdown",
   "metadata": {},
   "source": [
    "<a name='4'></a>\n",
    "## 4 - The Functional API"
   ]
  },
  {
   "cell_type": "markdown",
   "metadata": {},
   "source": [
    "Welcome to the second half of the assignment, where you'll use Keras' flexible [Functional API](https://www.tensorflow.org/guide/keras/functional) to build a ConvNet that can differentiate between 6 sign language digits. \n",
    "\n",
    "The Functional API can handle models with non-linear topology, shared layers, as well as layers with multiple inputs or outputs. Imagine that, where the Sequential API requires the model to move in a linear fashion through its layers, the Functional API allows much more flexibility. Where Sequential is a straight line, a Functional model is a graph, where the nodes of the layers can connect in many more ways than one. \n",
    "\n",
    "In the visual example below, the one possible direction of the movement Sequential model is shown in contrast to a skip connection, which is just one of the many ways a Functional model can be constructed. A skip connection, as you might have guessed, skips some layer in the network and feeds the output to a later layer in the network. Don't worry, you'll be spending more time with skip connections very soon! "
   ]
  },
  {
   "cell_type": "markdown",
   "metadata": {},
   "source": [
    "<img src=\"images/seq_vs_func.png\" style=\"width:350px;height:200px;\">"
   ]
  },
  {
   "cell_type": "markdown",
   "metadata": {},
   "source": [
    "<a name='4-1'></a>\n",
    "### 4.1 - Load the SIGNS Dataset\n",
    "\n",
    "As a reminder, the SIGNS dataset is a collection of 6 signs representing numbers from 0 to 5."
   ]
  },
  {
   "cell_type": "code",
   "execution_count": 10,
   "metadata": {},
   "outputs": [],
   "source": [
    "# Loading the data (signs)\n",
    "X_train_orig, Y_train_orig, X_test_orig, Y_test_orig, classes = load_signs_dataset()"
   ]
  },
  {
   "cell_type": "markdown",
   "metadata": {},
   "source": [
    "<img src=\"images/SIGNS.png\" style=\"width:800px;height:300px;\">\n",
    "\n",
    "The next cell will show you an example of a labelled image in the dataset. Feel free to change the value of `index` below and re-run to see different examples. "
   ]
  },
  {
   "cell_type": "code",
   "execution_count": 11,
   "metadata": {},
   "outputs": [
    {
     "name": "stdout",
     "output_type": "stream",
     "text": [
      "y = 4\n"
     ]
    },
    {
     "data": {
      "image/png": "[encoded data removed]",
      "text/plain": [
       "<Figure size 432x288 with 1 Axes>"
      ]
     },
     "metadata": {
      "needs_background": "light"
     },
     "output_type": "display_data"
    }
   ],
   "source": [
    "# Example of an image from the dataset\n",
    "index = 9\n",
    "plt.imshow(X_train_orig[index])\n",
    "print (\"y = \" + str(np.squeeze(Y_train_orig[:, index])))"
   ]
  },
  {
   "cell_type": "markdown",
   "metadata": {},
   "source": [
    "<a name='4-2'></a>\n",
    "### 4.2 - Split the Data into Train/Test Sets\n",
    "\n",
    "In Course 2, you built a fully-connected network for this dataset. But since this is an image dataset, it is more natural to apply a ConvNet to it.\n",
    "\n",
    "To get started, let's examine the shapes of your data. "
   ]
  },
  {
   "cell_type": "code",
   "execution_count": 12,
   "metadata": {},
   "outputs": [
    {
     "name": "stdout",
     "output_type": "stream",
     "text": [
      "number of training examples = 1080\n",
      "number of test examples = 120\n",
      "X_train shape: (1080, 64, 64, 3)\n",
      "Y_train shape: (1080, 6)\n",
      "X_test shape: (120, 64, 64, 3)\n",
      "Y_test shape: (120, 6)\n"
     ]
    }
   ],
   "source": [
    "X_train = X_train_orig/255.\n",
    "X_test = X_test_orig/255.\n",
    "Y_train = convert_to_one_hot(Y_train_orig, 6).T\n",
    "Y_test = convert_to_one_hot(Y_test_orig, 6).T\n",
    "print (\"number of training examples = \" + str(X_train.shape[0]))\n",
    "print (\"number of test examples = \" + str(X_test.shape[0]))\n",
    "print (\"X_train shape: \" + str(X_train.shape))\n",
    "print (\"Y_train shape: \" + str(Y_train.shape))\n",
    "print (\"X_test shape: \" + str(X_test.shape))\n",
    "print (\"Y_test shape: \" + str(Y_test.shape))"
   ]
  },
  {
   "cell_type": "markdown",
   "metadata": {},
   "source": [
    "<a name='4-3'></a>\n",
    "### 4.3 - Forward Propagation\n",
    "\n",
    "In TensorFlow, there are built-in functions that implement the convolution steps for you. By now, you should be familiar with how TensorFlow builds computational graphs. In the [Functional API](https://www.tensorflow.org/guide/keras/functional), you create a graph of layers. This is what allows such great flexibility.\n",
    "\n",
    "However, the following model could also be defined using the Sequential API since the information flow is on a single line. But don't deviate. What we want you to learn is to use the functional API.\n",
    "\n",
    "Begin building your graph of layers by creating an input node that functions as a callable object:\n",
    "\n",
    "- **input_img = tf.keras.Input(shape=input_shape):** \n",
    "\n",
    "Then, create a new node in the graph of layers by calling a layer on the `input_img` object: \n",
    "\n",
    "- **tf.keras.layers.Conv2D(filters= ... , kernel_size= ... , padding='same')(input_img):** Read the full documentation on [Conv2D](https://www.tensorflow.org/api_docs/python/tf/keras/layers/Conv2D).\n",
    "\n",
    "- **tf.keras.layers.MaxPool2D(pool_size=(f, f), strides=(s, s), padding='same'):** `MaxPool2D()` downsamples your input using a window of size (f, f) and strides of size (s, s) to carry out max pooling over each window.  For max pooling, you usually operate on a single example at a time and a single channel at a time. Read the full documentation on [MaxPool2D](https://www.tensorflow.org/api_docs/python/tf/keras/layers/MaxPool2D).\n",
    "\n",
    "- **tf.keras.layers.ReLU():** computes the elementwise ReLU of Z (which can be any shape). You can read the full documentation on [ReLU](https://www.tensorflow.org/api_docs/python/tf/keras/layers/ReLU).\n",
    "\n",
    "- **tf.keras.layers.Flatten()**: given a tensor \"P\", this function takes each training (or test) example in the batch and flattens it into a 1D vector.  \n",
    "\n",
    "    * If a tensor P has the shape (batch_size,h,w,c), it returns a flattened tensor with shape (batch_size, k), where $k=h \\times w \\times c$.  \"k\" equals the product of all the dimension sizes other than the first dimension.\n",
    "    \n",
    "    * For example, given a tensor with dimensions [100, 2, 3, 4], it flattens the tensor to be of shape [100, 24], where 24 = 2 * 3 * 4.  You can read the full documentation on [Flatten](https://www.tensorflow.org/api_docs/python/tf/keras/layers/Flatten).\n",
    "\n",
    "- **tf.keras.layers.Dense(units= ... , activation='softmax')(F):** given the flattened input F, it returns the output computed using a fully connected layer. You can read the full documentation on [Dense](https://www.tensorflow.org/api_docs/python/tf/keras/layers/Dense).\n",
    "\n",
    "In the last function above (`tf.keras.layers.Dense()`), the fully connected layer automatically initializes weights in the graph and keeps on training them as you train the model. Hence, you did not need to initialize those weights when initializing the parameters.\n",
    "\n",
    "Lastly, before creating the model, you'll need to define the output using the last of the function's compositions (in this example, a Dense layer): \n",
    "\n",
    "- **outputs = tf.keras.layers.Dense(units=6, activation='softmax')(F)**\n",
    "\n",
    "\n",
    "#### Window, kernel, filter, pool\n",
    "\n",
    "The words \"kernel\" and \"filter\" are used to refer to the same thing. The word \"filter\" accounts for the amount of \"kernels\" that will be used in a single convolution layer. \"Pool\" is the name of the operation that takes the max or average value of the kernels. \n",
    "\n",
    "This is why the parameter `pool_size` refers to `kernel_size`, and you use `(f,f)` to refer to the filter size. \n",
    "\n",
    "Pool size and kernel size refer to the same thing in different objects - They refer to the shape of the window where the operation takes place. "
   ]
  },
  {
   "cell_type": "markdown",
   "metadata": {},
   "source": [
    "<a name='ex-2'></a>\n",
    "### Exercise 2 - convolutional_model\n",
    "\n",
    "Implement the `convolutional_model` function below to build the following model: `CONV2D -> RELU -> MAXPOOL -> CONV2D -> RELU -> MAXPOOL -> FLATTEN -> DENSE`. Use the functions above! \n",
    "\n",
    "Also, plug in the following parameters for all the steps:\n",
    "\n",
    " - [Conv2D](https://www.tensorflow.org/api_docs/python/tf/keras/layers/Conv2D): Use 8 4 by 4 filters, stride 1, padding is \"SAME\"\n",
    " - [ReLU](https://www.tensorflow.org/api_docs/python/tf/keras/layers/ReLU)\n",
    " - [MaxPool2D](https://www.tensorflow.org/api_docs/python/tf/keras/layers/MaxPool2D): Use an 8 by 8 filter size and an 8 by 8 stride, padding is \"SAME\"\n",
    " - **Conv2D**: Use 16 2 by 2 filters, stride 1, padding is \"SAME\"\n",
    " - **ReLU**\n",
    " - **MaxPool2D**: Use a 4 by 4 filter size and a 4 by 4 stride, padding is \"SAME\"\n",
    " - [Flatten](https://www.tensorflow.org/api_docs/python/tf/keras/layers/Flatten) the previous output.\n",
    " - Fully-connected ([Dense](https://www.tensorflow.org/api_docs/python/tf/keras/layers/Dense)) layer: Apply a fully connected layer with 6 neurons and a softmax activation. "
   ]
  },
  {
   "cell_type": "code",
   "execution_count": 19,
   "metadata": {
    "deletable": false,
    "nbgrader": {
     "cell_type": "code",
     "checksum": "f58643806aa8380c96225fc8b4c5e7aa",
     "grade": false,
     "grade_id": "cell-dac51744a9e03f51",
     "locked": false,
     "schema_version": 3,
     "solution": true,
     "task": false
    }
   },
   "outputs": [],
   "source": [
    "# GRADED FUNCTION: convolutional_model\n",
    "\n",
    "def convolutional_model(input_shape):\n",
    "    \"\"\"\n",
    "    Implements the forward propagation for the model:\n",
    "    CONV2D -> RELU -> MAXPOOL -> CONV2D -> RELU -> MAXPOOL -> FLATTEN -> DENSE\n",
    "    \n",
    "    Note that for simplicity and grading purposes, you'll hard-code some values\n",
    "    such as the stride and kernel (filter) sizes. \n",
    "    Normally, functions should take these values as function parameters.\n",
    "    \n",
    "    Arguments:\n",
    "    input_img -- input dataset, of shape (input_shape)\n",
    "\n",
    "    Returns:\n",
    "    model -- TF Keras model (object containing the information for the entire training process) \n",
    "    \"\"\"\n",
    "\n",
    "    input_img = tf.keras.Input(shape=input_shape)\n",
    "    ## CONV2D: 8 filters 4x4, stride of 1, padding 'SAME'\n",
    "    # Z1 = None\n",
    "    ## RELU\n",
    "    # A1 = None\n",
    "    ## MAXPOOL: window 8x8, stride 8, padding 'SAME'\n",
    "    # P1 = None\n",
    "    ## CONV2D: 16 filters 2x2, stride 1, padding 'SAME'\n",
    "    # Z2 = None\n",
    "    ## RELU\n",
    "    # A2 = None\n",
    "    ## MAXPOOL: window 4x4, stride 4, padding 'SAME'\n",
    "    # P2 = None\n",
    "    ## FLATTEN\n",
    "    # F = None\n",
    "    ## Dense layer\n",
    "    ## 6 neurons in output layer. Hint: one of the arguments should be \"activation='softmax'\" \n",
    "    # outputs = None\n",
    "    # YOUR CODE STARTS HERE\n",
    "    Z1 = tf.keras.layers.Conv2D(filters = 8, kernel_size = (4,4), strides=(1,1), padding='same')(input_img)\n",
    "    A1 = tf.keras.layers.ReLU()(Z1)\n",
    "    P1 = tf.keras.layers.MaxPool2D(pool_size=(8,8), strides=(8,8), padding='same')(A1)\n",
    "    Z2 = tf.keras.layers.Conv2D(filters = 16, kernel_size = (2,2), strides=(1,1), padding='same')(P1)\n",
    "    A2 = tf.keras.layers.ReLU()(Z2)\n",
    "    P2 = tf.keras.layers.MaxPool2D(pool_size=(4,4), strides=(4,4), padding='same')(A2)\n",
    "    F = tf.keras.layers.Flatten()(P2)\n",
    "    outputs = tf.keras.layers.Dense(units=6, activation='softmax')(F)\n",
    "    \n",
    "    model = tf.keras.Model(inputs=input_img, outputs=outputs)\n",
    "    \n",
    "    # YOUR CODE ENDS HERE\n",
    "    model = tf.keras.Model(inputs=input_img, outputs=outputs)\n",
    "    return model"
   ]
  },
  {
   "cell_type": "code",
   "execution_count": 20,
   "metadata": {
    "deletable": false,
    "editable": false,
    "nbgrader": {
     "cell_type": "code",
     "checksum": "483d626949930a0b0ef20997e7c6ba72",
     "grade": true,
     "grade_id": "cell-45d22e92042174c9",
     "locked": true,
     "points": 10,
     "schema_version": 3,
     "solution": false,
     "task": false
    }
   },
   "outputs": [
    {
     "name": "stdout",
     "output_type": "stream",
     "text": [
      "Model: \"functional_7\"\n",
      "_________________________________________________________________\n",
      "Layer (type)                 Output Shape              Param #   \n",
      "=================================================================\n",
      "input_2 (InputLayer)         [(None, 64, 64, 3)]       0         \n",
      "_________________________________________________________________\n",
      "conv2d_2 (Conv2D)            (None, 64, 64, 8)         392       \n",
      "_________________________________________________________________\n",
      "re_lu_3 (ReLU)               (None, 64, 64, 8)         0         \n",
      "_________________________________________________________________\n",
      "max_pooling2d_2 (MaxPooling2 (None, 8, 8, 8)           0         \n",
      "_________________________________________________________________\n",
      "conv2d_3 (Conv2D)            (None, 8, 8, 16)          528       \n",
      "_________________________________________________________________\n",
      "re_lu_4 (ReLU)               (None, 8, 8, 16)          0         \n",
      "_________________________________________________________________\n",
      "max_pooling2d_3 (MaxPooling2 (None, 2, 2, 16)          0         \n",
      "_________________________________________________________________\n",
      "flatten_2 (Flatten)          (None, 64)                0         \n",
      "_________________________________________________________________\n",
      "dense_1 (Dense)              (None, 6)                 390       \n",
      "=================================================================\n",
      "Total params: 1,310\n",
      "Trainable params: 1,310\n",
      "Non-trainable params: 0\n",
      "_________________________________________________________________\n",
      "\u001b[32mAll tests passed!\u001b[0m\n"
     ]
    }
   ],
   "source": [
    "conv_model = convolutional_model((64, 64, 3))\n",
    "conv_model.compile(optimizer='adam',\n",
    "                  loss='categorical_crossentropy',\n",
    "                  metrics=['accuracy'])\n",
    "conv_model.summary()\n",
    "    \n",
    "output = [['InputLayer', [(None, 64, 64, 3)], 0],\n",
    "        ['Conv2D', (None, 64, 64, 8), 392, 'same', 'linear', 'GlorotUniform'],\n",
    "        ['ReLU', (None, 64, 64, 8), 0],\n",
    "        ['MaxPooling2D', (None, 8, 8, 8), 0, (8, 8), (8, 8), 'same'],\n",
    "        ['Conv2D', (None, 8, 8, 16), 528, 'same', 'linear', 'GlorotUniform'],\n",
    "        ['ReLU', (None, 8, 8, 16), 0],\n",
    "        ['MaxPooling2D', (None, 2, 2, 16), 0, (4, 4), (4, 4), 'same'],\n",
    "        ['Flatten', (None, 64), 0],\n",
    "        ['Dense', (None, 6), 390, 'softmax']]\n",
    "    \n",
    "comparator(summary(conv_model), output)"
   ]
  },
  {
   "cell_type": "markdown",
   "metadata": {},
   "source": [
    "Both the Sequential and Functional APIs return a TF Keras model object. The only difference is how inputs are handled inside the object model! "
   ]
  },
  {
   "cell_type": "markdown",
   "metadata": {},
   "source": [
    "<a name='4-4'></a>\n",
    "### 4.4 - Train the Model"
   ]
  },
  {
   "cell_type": "code",
   "execution_count": 15,
   "metadata": {},
   "outputs": [
    {
     "name": "stdout",
     "output_type": "stream",
     "text": [
      "Epoch 1/100\n",
      "17/17 [==============================] - 2s 109ms/step - loss: 1.7949 - accuracy: 0.1824 - val_loss: 1.7886 - val_accuracy: 0.1667\n",
      "Epoch 2/100\n",
      "17/17 [==============================] - 2s 100ms/step - loss: 1.7848 - accuracy: 0.2519 - val_loss: 1.7825 - val_accuracy: 0.3083\n",
      "Epoch 3/100\n",
      "17/17 [==============================] - 2s 100ms/step - loss: 1.7762 - accuracy: 0.2657 - val_loss: 1.7742 - val_accuracy: 0.2583\n",
      "Epoch 4/100\n",
      "17/17 [==============================] - 2s 100ms/step - loss: 1.7670 - accuracy: 0.2444 - val_loss: 1.7665 - val_accuracy: 0.2583\n",
      "Epoch 5/100\n",
      "17/17 [==============================] - 2s 102ms/step - loss: 1.7555 - accuracy: 0.2750 - val_loss: 1.7580 - val_accuracy: 0.3167\n",
      "Epoch 6/100\n",
      "17/17 [==============================] - 2s 100ms/step - loss: 1.7413 - accuracy: 0.2991 - val_loss: 1.7489 - val_accuracy: 0.3000\n",
      "Epoch 7/100\n",
      "17/17 [==============================] - 2s 100ms/step - loss: 1.7218 - accuracy: 0.3324 - val_loss: 1.7319 - val_accuracy: 0.3333\n",
      "Epoch 8/100\n",
      "17/17 [==============================] - 2s 95ms/step - loss: 1.6944 - accuracy: 0.3574 - val_loss: 1.7114 - val_accuracy: 0.3750\n",
      "Epoch 9/100\n",
      "17/17 [==============================] - 2s 100ms/step - loss: 1.6619 - accuracy: 0.3806 - val_loss: 1.6872 - val_accuracy: 0.3667\n",
      "Epoch 10/100\n",
      "17/17 [==============================] - 2s 106ms/step - loss: 1.6242 - accuracy: 0.4000 - val_loss: 1.6592 - val_accuracy: 0.4083\n",
      "Epoch 11/100\n",
      "17/17 [==============================] - 2s 100ms/step - loss: 1.5833 - accuracy: 0.4213 - val_loss: 1.6295 - val_accuracy: 0.3917\n",
      "Epoch 12/100\n",
      "17/17 [==============================] - 2s 100ms/step - loss: 1.5417 - accuracy: 0.4352 - val_loss: 1.5952 - val_accuracy: 0.4083\n",
      "Epoch 13/100\n",
      "17/17 [==============================] - 2s 100ms/step - loss: 1.4978 - accuracy: 0.4491 - val_loss: 1.5615 - val_accuracy: 0.4083\n",
      "Epoch 14/100\n",
      "17/17 [==============================] - 2s 105ms/step - loss: 1.4560 - accuracy: 0.4556 - val_loss: 1.5277 - val_accuracy: 0.4250\n",
      "Epoch 15/100\n",
      "17/17 [==============================] - 2s 101ms/step - loss: 1.4174 - accuracy: 0.4750 - val_loss: 1.4959 - val_accuracy: 0.4333\n",
      "Epoch 16/100\n",
      "17/17 [==============================] - 2s 100ms/step - loss: 1.3805 - accuracy: 0.4963 - val_loss: 1.4643 - val_accuracy: 0.4500\n",
      "Epoch 17/100\n",
      "17/17 [==============================] - 2s 100ms/step - loss: 1.3453 - accuracy: 0.5176 - val_loss: 1.4330 - val_accuracy: 0.4667\n",
      "Epoch 18/100\n",
      "17/17 [==============================] - 2s 100ms/step - loss: 1.3135 - accuracy: 0.5204 - val_loss: 1.3965 - val_accuracy: 0.4917\n",
      "Epoch 19/100\n",
      "17/17 [==============================] - 2s 101ms/step - loss: 1.2788 - accuracy: 0.5380 - val_loss: 1.3637 - val_accuracy: 0.4750\n",
      "Epoch 20/100\n",
      "17/17 [==============================] - 2s 100ms/step - loss: 1.2466 - accuracy: 0.5546 - val_loss: 1.3273 - val_accuracy: 0.5000\n",
      "Epoch 21/100\n",
      "17/17 [==============================] - 2s 101ms/step - loss: 1.2134 - accuracy: 0.5657 - val_loss: 1.2944 - val_accuracy: 0.5167\n",
      "Epoch 22/100\n",
      "17/17 [==============================] - 2s 100ms/step - loss: 1.1804 - accuracy: 0.5917 - val_loss: 1.2549 - val_accuracy: 0.5417\n",
      "Epoch 23/100\n",
      "17/17 [==============================] - 2s 101ms/step - loss: 1.1447 - accuracy: 0.6176 - val_loss: 1.2250 - val_accuracy: 0.5333\n",
      "Epoch 24/100\n",
      "17/17 [==============================] - 2s 100ms/step - loss: 1.1119 - accuracy: 0.6343 - val_loss: 1.1860 - val_accuracy: 0.5500\n",
      "Epoch 25/100\n",
      "17/17 [==============================] - 2s 95ms/step - loss: 1.0790 - accuracy: 0.6565 - val_loss: 1.1521 - val_accuracy: 0.5500\n",
      "Epoch 26/100\n",
      "17/17 [==============================] - 2s 100ms/step - loss: 1.0459 - accuracy: 0.6676 - val_loss: 1.1146 - val_accuracy: 0.5750\n",
      "Epoch 27/100\n",
      "17/17 [==============================] - 2s 100ms/step - loss: 1.0149 - accuracy: 0.6852 - val_loss: 1.0844 - val_accuracy: 0.5833\n",
      "Epoch 28/100\n",
      "17/17 [==============================] - 2s 100ms/step - loss: 0.9842 - accuracy: 0.6870 - val_loss: 1.0501 - val_accuracy: 0.6083\n",
      "Epoch 29/100\n",
      "17/17 [==============================] - 2s 100ms/step - loss: 0.9525 - accuracy: 0.7056 - val_loss: 1.0201 - val_accuracy: 0.6250\n",
      "Epoch 30/100\n",
      "17/17 [==============================] - 2s 100ms/step - loss: 0.9270 - accuracy: 0.7176 - val_loss: 0.9947 - val_accuracy: 0.6167\n",
      "Epoch 31/100\n",
      "17/17 [==============================] - 2s 100ms/step - loss: 0.9006 - accuracy: 0.7259 - val_loss: 0.9681 - val_accuracy: 0.6500\n",
      "Epoch 32/100\n",
      "17/17 [==============================] - 2s 101ms/step - loss: 0.8750 - accuracy: 0.7398 - val_loss: 0.9416 - val_accuracy: 0.6583\n",
      "Epoch 33/100\n",
      "17/17 [==============================] - 2s 100ms/step - loss: 0.8493 - accuracy: 0.7472 - val_loss: 0.9206 - val_accuracy: 0.6667\n",
      "Epoch 34/100\n",
      "17/17 [==============================] - 2s 100ms/step - loss: 0.8264 - accuracy: 0.7528 - val_loss: 0.9007 - val_accuracy: 0.6583\n",
      "Epoch 35/100\n",
      "17/17 [==============================] - 2s 101ms/step - loss: 0.8048 - accuracy: 0.7630 - val_loss: 0.8823 - val_accuracy: 0.6667\n",
      "Epoch 36/100\n",
      "17/17 [==============================] - 2s 100ms/step - loss: 0.7858 - accuracy: 0.7639 - val_loss: 0.8649 - val_accuracy: 0.6667\n",
      "Epoch 37/100\n",
      "17/17 [==============================] - 2s 101ms/step - loss: 0.7660 - accuracy: 0.7704 - val_loss: 0.8490 - val_accuracy: 0.6833\n",
      "Epoch 38/100\n",
      "17/17 [==============================] - 2s 100ms/step - loss: 0.7462 - accuracy: 0.7787 - val_loss: 0.8354 - val_accuracy: 0.6917\n",
      "Epoch 39/100\n",
      "17/17 [==============================] - 2s 100ms/step - loss: 0.7288 - accuracy: 0.7870 - val_loss: 0.8215 - val_accuracy: 0.6833\n",
      "Epoch 40/100\n",
      "17/17 [==============================] - 2s 100ms/step - loss: 0.7121 - accuracy: 0.7889 - val_loss: 0.8100 - val_accuracy: 0.6917\n",
      "Epoch 41/100\n",
      "17/17 [==============================] - 2s 105ms/step - loss: 0.6971 - accuracy: 0.7944 - val_loss: 0.7983 - val_accuracy: 0.6917\n",
      "Epoch 42/100\n",
      "17/17 [==============================] - 2s 106ms/step - loss: 0.6820 - accuracy: 0.7963 - val_loss: 0.7878 - val_accuracy: 0.6833\n",
      "Epoch 43/100\n",
      "17/17 [==============================] - 2s 100ms/step - loss: 0.6685 - accuracy: 0.8037 - val_loss: 0.7772 - val_accuracy: 0.6917\n",
      "Epoch 44/100\n",
      "17/17 [==============================] - 2s 101ms/step - loss: 0.6549 - accuracy: 0.8065 - val_loss: 0.7674 - val_accuracy: 0.7000\n",
      "Epoch 45/100\n",
      "17/17 [==============================] - 2s 100ms/step - loss: 0.6435 - accuracy: 0.8130 - val_loss: 0.7573 - val_accuracy: 0.7000\n",
      "Epoch 46/100\n",
      "17/17 [==============================] - 2s 100ms/step - loss: 0.6309 - accuracy: 0.8157 - val_loss: 0.7483 - val_accuracy: 0.7083\n",
      "Epoch 47/100\n",
      "17/17 [==============================] - 2s 100ms/step - loss: 0.6196 - accuracy: 0.8157 - val_loss: 0.7394 - val_accuracy: 0.7083\n",
      "Epoch 48/100\n",
      "17/17 [==============================] - 2s 100ms/step - loss: 0.6082 - accuracy: 0.8241 - val_loss: 0.7324 - val_accuracy: 0.7083\n",
      "Epoch 49/100\n",
      "17/17 [==============================] - 2s 100ms/step - loss: 0.5975 - accuracy: 0.8259 - val_loss: 0.7233 - val_accuracy: 0.7250\n",
      "Epoch 50/100\n",
      "17/17 [==============================] - 2s 100ms/step - loss: 0.5875 - accuracy: 0.8287 - val_loss: 0.7169 - val_accuracy: 0.7167\n",
      "Epoch 51/100\n",
      "17/17 [==============================] - 2s 100ms/step - loss: 0.5775 - accuracy: 0.8315 - val_loss: 0.7088 - val_accuracy: 0.7250\n",
      "Epoch 52/100\n",
      "17/17 [==============================] - 2s 100ms/step - loss: 0.5682 - accuracy: 0.8333 - val_loss: 0.7022 - val_accuracy: 0.7333\n",
      "Epoch 53/100\n",
      "17/17 [==============================] - 2s 100ms/step - loss: 0.5589 - accuracy: 0.8352 - val_loss: 0.6957 - val_accuracy: 0.7500\n",
      "Epoch 54/100\n",
      "17/17 [==============================] - 2s 106ms/step - loss: 0.5503 - accuracy: 0.8389 - val_loss: 0.6894 - val_accuracy: 0.7500\n",
      "Epoch 55/100\n",
      "17/17 [==============================] - 2s 100ms/step - loss: 0.5421 - accuracy: 0.8380 - val_loss: 0.6838 - val_accuracy: 0.7500\n",
      "Epoch 56/100\n",
      "17/17 [==============================] - 2s 105ms/step - loss: 0.5344 - accuracy: 0.8435 - val_loss: 0.6776 - val_accuracy: 0.7500\n",
      "Epoch 57/100\n",
      "17/17 [==============================] - 2s 100ms/step - loss: 0.5262 - accuracy: 0.8472 - val_loss: 0.6726 - val_accuracy: 0.7583\n"
     ]
    },
    {
     "name": "stdout",
     "output_type": "stream",
     "text": [
      "Epoch 58/100\n",
      "17/17 [==============================] - 2s 105ms/step - loss: 0.5193 - accuracy: 0.8481 - val_loss: 0.6658 - val_accuracy: 0.7583\n",
      "Epoch 59/100\n",
      "17/17 [==============================] - 2s 100ms/step - loss: 0.5118 - accuracy: 0.8519 - val_loss: 0.6614 - val_accuracy: 0.7583\n",
      "Epoch 60/100\n",
      "17/17 [==============================] - 2s 101ms/step - loss: 0.5048 - accuracy: 0.8528 - val_loss: 0.6554 - val_accuracy: 0.7583\n",
      "Epoch 61/100\n",
      "17/17 [==============================] - 2s 106ms/step - loss: 0.4979 - accuracy: 0.8565 - val_loss: 0.6517 - val_accuracy: 0.7583\n",
      "Epoch 62/100\n",
      "17/17 [==============================] - 2s 101ms/step - loss: 0.4910 - accuracy: 0.8611 - val_loss: 0.6463 - val_accuracy: 0.7583\n",
      "Epoch 63/100\n",
      "17/17 [==============================] - 2s 100ms/step - loss: 0.4846 - accuracy: 0.8583 - val_loss: 0.6432 - val_accuracy: 0.7583\n",
      "Epoch 64/100\n",
      "17/17 [==============================] - 2s 106ms/step - loss: 0.4782 - accuracy: 0.8648 - val_loss: 0.6378 - val_accuracy: 0.7583\n",
      "Epoch 65/100\n",
      "17/17 [==============================] - 2s 100ms/step - loss: 0.4721 - accuracy: 0.8648 - val_loss: 0.6346 - val_accuracy: 0.7583\n",
      "Epoch 66/100\n",
      "17/17 [==============================] - 2s 100ms/step - loss: 0.4657 - accuracy: 0.8694 - val_loss: 0.6293 - val_accuracy: 0.7583\n",
      "Epoch 67/100\n",
      "17/17 [==============================] - 2s 100ms/step - loss: 0.4599 - accuracy: 0.8676 - val_loss: 0.6258 - val_accuracy: 0.7583\n",
      "Epoch 68/100\n",
      "17/17 [==============================] - 2s 101ms/step - loss: 0.4542 - accuracy: 0.8722 - val_loss: 0.6206 - val_accuracy: 0.7500\n",
      "Epoch 69/100\n",
      "17/17 [==============================] - 2s 100ms/step - loss: 0.4487 - accuracy: 0.8759 - val_loss: 0.6174 - val_accuracy: 0.7833\n",
      "Epoch 70/100\n",
      "17/17 [==============================] - 2s 100ms/step - loss: 0.4425 - accuracy: 0.8778 - val_loss: 0.6132 - val_accuracy: 0.7750\n",
      "Epoch 71/100\n",
      "17/17 [==============================] - 2s 100ms/step - loss: 0.4374 - accuracy: 0.8806 - val_loss: 0.6097 - val_accuracy: 0.7833\n",
      "Epoch 72/100\n",
      "17/17 [==============================] - 2s 100ms/step - loss: 0.4322 - accuracy: 0.8806 - val_loss: 0.6053 - val_accuracy: 0.7833\n",
      "Epoch 73/100\n",
      "17/17 [==============================] - 2s 101ms/step - loss: 0.4272 - accuracy: 0.8824 - val_loss: 0.6016 - val_accuracy: 0.7917\n",
      "Epoch 74/100\n",
      "17/17 [==============================] - 2s 100ms/step - loss: 0.4220 - accuracy: 0.8870 - val_loss: 0.5977 - val_accuracy: 0.7917\n",
      "Epoch 75/100\n",
      "17/17 [==============================] - 2s 100ms/step - loss: 0.4175 - accuracy: 0.8889 - val_loss: 0.5937 - val_accuracy: 0.7833\n",
      "Epoch 76/100\n",
      "17/17 [==============================] - 2s 100ms/step - loss: 0.4125 - accuracy: 0.8880 - val_loss: 0.5902 - val_accuracy: 0.7917\n",
      "Epoch 77/100\n",
      "17/17 [==============================] - 2s 105ms/step - loss: 0.4081 - accuracy: 0.8907 - val_loss: 0.5867 - val_accuracy: 0.8083\n",
      "Epoch 78/100\n",
      "17/17 [==============================] - 2s 100ms/step - loss: 0.4035 - accuracy: 0.8898 - val_loss: 0.5831 - val_accuracy: 0.8000\n",
      "Epoch 79/100\n",
      "17/17 [==============================] - 2s 100ms/step - loss: 0.3989 - accuracy: 0.8917 - val_loss: 0.5797 - val_accuracy: 0.8083\n",
      "Epoch 80/100\n",
      "17/17 [==============================] - 2s 100ms/step - loss: 0.3948 - accuracy: 0.8935 - val_loss: 0.5759 - val_accuracy: 0.8083\n",
      "Epoch 81/100\n",
      "17/17 [==============================] - 2s 96ms/step - loss: 0.3904 - accuracy: 0.8935 - val_loss: 0.5735 - val_accuracy: 0.8083\n",
      "Epoch 82/100\n",
      "17/17 [==============================] - 2s 100ms/step - loss: 0.3862 - accuracy: 0.8944 - val_loss: 0.5704 - val_accuracy: 0.8167\n",
      "Epoch 83/100\n",
      "17/17 [==============================] - 2s 101ms/step - loss: 0.3818 - accuracy: 0.8981 - val_loss: 0.5672 - val_accuracy: 0.8167\n",
      "Epoch 84/100\n",
      "17/17 [==============================] - 2s 100ms/step - loss: 0.3780 - accuracy: 0.8991 - val_loss: 0.5640 - val_accuracy: 0.8167\n",
      "Epoch 85/100\n",
      "17/17 [==============================] - 2s 106ms/step - loss: 0.3740 - accuracy: 0.9000 - val_loss: 0.5615 - val_accuracy: 0.8250\n",
      "Epoch 86/100\n",
      "17/17 [==============================] - 2s 100ms/step - loss: 0.3698 - accuracy: 0.8991 - val_loss: 0.5586 - val_accuracy: 0.8250\n",
      "Epoch 87/100\n",
      "17/17 [==============================] - 2s 100ms/step - loss: 0.3661 - accuracy: 0.9019 - val_loss: 0.5554 - val_accuracy: 0.8250\n",
      "Epoch 88/100\n",
      "17/17 [==============================] - 2s 100ms/step - loss: 0.3623 - accuracy: 0.9019 - val_loss: 0.5519 - val_accuracy: 0.8250\n",
      "Epoch 89/100\n",
      "17/17 [==============================] - 2s 105ms/step - loss: 0.3584 - accuracy: 0.9009 - val_loss: 0.5498 - val_accuracy: 0.8250\n",
      "Epoch 90/100\n",
      "17/17 [==============================] - 2s 100ms/step - loss: 0.3547 - accuracy: 0.9009 - val_loss: 0.5470 - val_accuracy: 0.8250\n",
      "Epoch 91/100\n",
      "17/17 [==============================] - 2s 100ms/step - loss: 0.3510 - accuracy: 0.9019 - val_loss: 0.5443 - val_accuracy: 0.8250\n",
      "Epoch 92/100\n",
      "17/17 [==============================] - 2s 100ms/step - loss: 0.3476 - accuracy: 0.9028 - val_loss: 0.5410 - val_accuracy: 0.8250\n",
      "Epoch 93/100\n",
      "17/17 [==============================] - 2s 96ms/step - loss: 0.3440 - accuracy: 0.9028 - val_loss: 0.5383 - val_accuracy: 0.8250\n",
      "Epoch 94/100\n",
      "17/17 [==============================] - 2s 100ms/step - loss: 0.3405 - accuracy: 0.9028 - val_loss: 0.5360 - val_accuracy: 0.8250\n",
      "Epoch 95/100\n",
      "17/17 [==============================] - 2s 100ms/step - loss: 0.3371 - accuracy: 0.9028 - val_loss: 0.5334 - val_accuracy: 0.8250\n",
      "Epoch 96/100\n",
      "17/17 [==============================] - 2s 100ms/step - loss: 0.3338 - accuracy: 0.9028 - val_loss: 0.5309 - val_accuracy: 0.8250\n",
      "Epoch 97/100\n",
      "17/17 [==============================] - 2s 100ms/step - loss: 0.3306 - accuracy: 0.9037 - val_loss: 0.5284 - val_accuracy: 0.8250\n",
      "Epoch 98/100\n",
      "17/17 [==============================] - 2s 100ms/step - loss: 0.3273 - accuracy: 0.9046 - val_loss: 0.5269 - val_accuracy: 0.8250\n",
      "Epoch 99/100\n",
      "17/17 [==============================] - 2s 100ms/step - loss: 0.3243 - accuracy: 0.9037 - val_loss: 0.5242 - val_accuracy: 0.8250\n",
      "Epoch 100/100\n",
      "17/17 [==============================] - 2s 100ms/step - loss: 0.3214 - accuracy: 0.9065 - val_loss: 0.5219 - val_accuracy: 0.8250\n"
     ]
    }
   ],
   "source": [
    "train_dataset = tf.data.Dataset.from_tensor_slices((X_train, Y_train)).batch(64)\n",
    "test_dataset = tf.data.Dataset.from_tensor_slices((X_test, Y_test)).batch(64)\n",
    "history = conv_model.fit(train_dataset, epochs=100, validation_data=test_dataset)"
   ]
  },
  {
   "cell_type": "markdown",
   "metadata": {},
   "source": [
    "<a name='5'></a>\n",
    "## 5 - History Object \n",
    "\n",
    "The history object is an output of the `.fit()` operation, and provides a record of all the loss and metric values in memory. It's stored as a dictionary that you can retrieve at `history.history`: "
   ]
  },
  {
   "cell_type": "code",
   "execution_count": 16,
   "metadata": {},
   "outputs": [
    {
     "data": {
      "text/plain": [
       "{'loss': [1.7949347496032715,\n",
       "  1.7847578525543213,\n",
       "  1.7762173414230347,\n",
       "  1.7670379877090454,\n",
       "  1.7555303573608398,\n",
       "  1.7413321733474731,\n",
       "  1.7217700481414795,\n",
       "  1.6943997144699097,\n",
       "  1.6618584394454956,\n",
       "  1.624184250831604,\n",
       "  1.5832672119140625,\n",
       "  1.5417455434799194,\n",
       "  1.4978177547454834,\n",
       "  1.4559855461120605,\n",
       "  1.4174039363861084,\n",
       "  1.3804858922958374,\n",
       "  1.3452513217926025,\n",
       "  1.3135212659835815,\n",
       "  1.2787951231002808,\n",
       "  1.2465940713882446,\n",
       "  1.213377594947815,\n",
       "  1.1804078817367554,\n",
       "  1.144659161567688,\n",
       "  1.1119132041931152,\n",
       "  1.0789951086044312,\n",
       "  1.045855164527893,\n",
       "  1.0149072408676147,\n",
       "  0.9842464923858643,\n",
       "  0.9524657130241394,\n",
       "  0.9270453453063965,\n",
       "  0.9005627036094666,\n",
       "  0.8749691247940063,\n",
       "  0.8492761254310608,\n",
       "  0.826429009437561,\n",
       "  0.8048218488693237,\n",
       "  0.7857603430747986,\n",
       "  0.7659982442855835,\n",
       "  0.7462270259857178,\n",
       "  0.7288204431533813,\n",
       "  0.7120903730392456,\n",
       "  0.6971144080162048,\n",
       "  0.6820477247238159,\n",
       "  0.6685056686401367,\n",
       "  0.6548987030982971,\n",
       "  0.6434988379478455,\n",
       "  0.6309455633163452,\n",
       "  0.6195595860481262,\n",
       "  0.6081626415252686,\n",
       "  0.5974690914154053,\n",
       "  0.5874829292297363,\n",
       "  0.5775121450424194,\n",
       "  0.5682414174079895,\n",
       "  0.558882474899292,\n",
       "  0.5503214001655579,\n",
       "  0.5421214699745178,\n",
       "  0.5343704223632812,\n",
       "  0.5262347459793091,\n",
       "  0.5193092226982117,\n",
       "  0.5117971897125244,\n",
       "  0.504770040512085,\n",
       "  0.49791842699050903,\n",
       "  0.4909608066082001,\n",
       "  0.4845799207687378,\n",
       "  0.4781811833381653,\n",
       "  0.4720681607723236,\n",
       "  0.46574264764785767,\n",
       "  0.45992013812065125,\n",
       "  0.4542348086833954,\n",
       "  0.4486631751060486,\n",
       "  0.4425176680088043,\n",
       "  0.43735334277153015,\n",
       "  0.4321553707122803,\n",
       "  0.42721661925315857,\n",
       "  0.42198535799980164,\n",
       "  0.41747385263442993,\n",
       "  0.4125433564186096,\n",
       "  0.4081406891345978,\n",
       "  0.4034883677959442,\n",
       "  0.3988732397556305,\n",
       "  0.39478522539138794,\n",
       "  0.3904133439064026,\n",
       "  0.386164128780365,\n",
       "  0.38183608651161194,\n",
       "  0.3780413568019867,\n",
       "  0.3739768862724304,\n",
       "  0.36983761191368103,\n",
       "  0.3661319613456726,\n",
       "  0.3622708022594452,\n",
       "  0.35840359330177307,\n",
       "  0.35467636585235596,\n",
       "  0.35099783539772034,\n",
       "  0.34760016202926636,\n",
       "  0.34398791193962097,\n",
       "  0.3405221700668335,\n",
       "  0.33706146478652954,\n",
       "  0.3337758481502533,\n",
       "  0.3306473195552826,\n",
       "  0.3272691071033478,\n",
       "  0.3243195712566376,\n",
       "  0.3213646709918976],\n",
       " 'accuracy': [0.182407408952713,\n",
       "  0.2518518567085266,\n",
       "  0.2657407522201538,\n",
       "  0.24444444477558136,\n",
       "  0.2750000059604645,\n",
       "  0.29907408356666565,\n",
       "  0.3324074149131775,\n",
       "  0.35740742087364197,\n",
       "  0.38055557012557983,\n",
       "  0.4000000059604645,\n",
       "  0.42129629850387573,\n",
       "  0.43518519401550293,\n",
       "  0.44907405972480774,\n",
       "  0.4555555582046509,\n",
       "  0.4749999940395355,\n",
       "  0.4962962865829468,\n",
       "  0.5175926089286804,\n",
       "  0.520370364189148,\n",
       "  0.5379629731178284,\n",
       "  0.5546296238899231,\n",
       "  0.5657407641410828,\n",
       "  0.5916666388511658,\n",
       "  0.6175925731658936,\n",
       "  0.6342592835426331,\n",
       "  0.6564815044403076,\n",
       "  0.6675925850868225,\n",
       "  0.6851851940155029,\n",
       "  0.6870370507240295,\n",
       "  0.7055555582046509,\n",
       "  0.7175925970077515,\n",
       "  0.7259259223937988,\n",
       "  0.739814817905426,\n",
       "  0.7472222447395325,\n",
       "  0.7527777552604675,\n",
       "  0.7629629373550415,\n",
       "  0.7638888955116272,\n",
       "  0.770370364189148,\n",
       "  0.7787036895751953,\n",
       "  0.7870370149612427,\n",
       "  0.7888888716697693,\n",
       "  0.7944444417953491,\n",
       "  0.7962962985038757,\n",
       "  0.8037037253379822,\n",
       "  0.8064814805984497,\n",
       "  0.8129629492759705,\n",
       "  0.8157407641410828,\n",
       "  0.8157407641410828,\n",
       "  0.8240740895271301,\n",
       "  0.8259259462356567,\n",
       "  0.8287037014961243,\n",
       "  0.8314814567565918,\n",
       "  0.8333333134651184,\n",
       "  0.835185170173645,\n",
       "  0.8388888835906982,\n",
       "  0.8379629850387573,\n",
       "  0.8435184955596924,\n",
       "  0.8472222089767456,\n",
       "  0.8481481671333313,\n",
       "  0.8518518805503845,\n",
       "  0.8527777791023254,\n",
       "  0.8564814925193787,\n",
       "  0.8611111044883728,\n",
       "  0.8583333492279053,\n",
       "  0.864814817905426,\n",
       "  0.864814817905426,\n",
       "  0.8694444298744202,\n",
       "  0.8675925731658936,\n",
       "  0.8722222447395325,\n",
       "  0.8759258985519409,\n",
       "  0.8777777552604675,\n",
       "  0.8805555701255798,\n",
       "  0.8805555701255798,\n",
       "  0.8824074268341064,\n",
       "  0.8870370388031006,\n",
       "  0.8888888955116272,\n",
       "  0.8879629373550415,\n",
       "  0.8907407522201538,\n",
       "  0.8898147940635681,\n",
       "  0.8916666507720947,\n",
       "  0.8935185074806213,\n",
       "  0.8935185074806213,\n",
       "  0.894444465637207,\n",
       "  0.8981481194496155,\n",
       "  0.8990740776062012,\n",
       "  0.8999999761581421,\n",
       "  0.8990740776062012,\n",
       "  0.9018518328666687,\n",
       "  0.9018518328666687,\n",
       "  0.9009259343147278,\n",
       "  0.9009259343147278,\n",
       "  0.9018518328666687,\n",
       "  0.9027777910232544,\n",
       "  0.9027777910232544,\n",
       "  0.9027777910232544,\n",
       "  0.9027777910232544,\n",
       "  0.9027777910232544,\n",
       "  0.9037036895751953,\n",
       "  0.904629647731781,\n",
       "  0.9037036895751953,\n",
       "  0.9064815044403076],\n",
       " 'val_loss': [1.788581132888794,\n",
       "  1.7824668884277344,\n",
       "  1.7741841077804565,\n",
       "  1.7664947509765625,\n",
       "  1.7579643726348877,\n",
       "  1.748865008354187,\n",
       "  1.7318910360336304,\n",
       "  1.711447834968567,\n",
       "  1.687201976776123,\n",
       "  1.6591967344284058,\n",
       "  1.6295264959335327,\n",
       "  1.5952301025390625,\n",
       "  1.561497449874878,\n",
       "  1.5276968479156494,\n",
       "  1.4959075450897217,\n",
       "  1.4643385410308838,\n",
       "  1.4329739809036255,\n",
       "  1.3964977264404297,\n",
       "  1.3637148141860962,\n",
       "  1.327337622642517,\n",
       "  1.2943613529205322,\n",
       "  1.2548563480377197,\n",
       "  1.224987268447876,\n",
       "  1.1859956979751587,\n",
       "  1.1520696878433228,\n",
       "  1.114580750465393,\n",
       "  1.0844002962112427,\n",
       "  1.050071120262146,\n",
       "  1.0200542211532593,\n",
       "  0.9947031736373901,\n",
       "  0.9680719375610352,\n",
       "  0.941629946231842,\n",
       "  0.9206379055976868,\n",
       "  0.900684118270874,\n",
       "  0.8823084235191345,\n",
       "  0.8648579716682434,\n",
       "  0.8490371108055115,\n",
       "  0.835387647151947,\n",
       "  0.8215010166168213,\n",
       "  0.8099538087844849,\n",
       "  0.798319399356842,\n",
       "  0.7878457307815552,\n",
       "  0.7772390842437744,\n",
       "  0.7673502564430237,\n",
       "  0.7572841048240662,\n",
       "  0.7482624053955078,\n",
       "  0.7393938302993774,\n",
       "  0.7324358820915222,\n",
       "  0.7233287692070007,\n",
       "  0.7168628573417664,\n",
       "  0.7088044881820679,\n",
       "  0.7021602392196655,\n",
       "  0.6957474946975708,\n",
       "  0.689354658126831,\n",
       "  0.6838144659996033,\n",
       "  0.6775512099266052,\n",
       "  0.672565221786499,\n",
       "  0.6658419370651245,\n",
       "  0.6613919138908386,\n",
       "  0.6553911566734314,\n",
       "  0.6517372131347656,\n",
       "  0.6462587118148804,\n",
       "  0.6431909203529358,\n",
       "  0.6377784609794617,\n",
       "  0.6345964074134827,\n",
       "  0.6293466091156006,\n",
       "  0.6258403062820435,\n",
       "  0.6205721497535706,\n",
       "  0.617364227771759,\n",
       "  0.6131898164749146,\n",
       "  0.6097219586372375,\n",
       "  0.6053040623664856,\n",
       "  0.6016174554824829,\n",
       "  0.5976801514625549,\n",
       "  0.5937340259552002,\n",
       "  0.590231716632843,\n",
       "  0.5866622924804688,\n",
       "  0.5831078290939331,\n",
       "  0.5797469019889832,\n",
       "  0.5758950114250183,\n",
       "  0.5735489130020142,\n",
       "  0.570428192615509,\n",
       "  0.5672115087509155,\n",
       "  0.5639848113059998,\n",
       "  0.5614915490150452,\n",
       "  0.5586013793945312,\n",
       "  0.5553675889968872,\n",
       "  0.5519172549247742,\n",
       "  0.5498064756393433,\n",
       "  0.5470103025436401,\n",
       "  0.5443248748779297,\n",
       "  0.5409929752349854,\n",
       "  0.5382896661758423,\n",
       "  0.5359972715377808,\n",
       "  0.5334241390228271,\n",
       "  0.5308600664138794,\n",
       "  0.5284153819084167,\n",
       "  0.52686607837677,\n",
       "  0.5241563320159912,\n",
       "  0.5219367742538452],\n",
       " 'val_accuracy': [0.1666666716337204,\n",
       "  0.3083333373069763,\n",
       "  0.25833332538604736,\n",
       "  0.25833332538604736,\n",
       "  0.3166666626930237,\n",
       "  0.30000001192092896,\n",
       "  0.3333333432674408,\n",
       "  0.375,\n",
       "  0.36666667461395264,\n",
       "  0.40833333134651184,\n",
       "  0.3916666805744171,\n",
       "  0.40833333134651184,\n",
       "  0.40833333134651184,\n",
       "  0.42500001192092896,\n",
       "  0.4333333373069763,\n",
       "  0.44999998807907104,\n",
       "  0.46666666865348816,\n",
       "  0.49166667461395264,\n",
       "  0.4749999940395355,\n",
       "  0.5,\n",
       "  0.5166666507720947,\n",
       "  0.5416666865348816,\n",
       "  0.5333333611488342,\n",
       "  0.550000011920929,\n",
       "  0.550000011920929,\n",
       "  0.574999988079071,\n",
       "  0.5833333134651184,\n",
       "  0.6083333492279053,\n",
       "  0.625,\n",
       "  0.6166666746139526,\n",
       "  0.6499999761581421,\n",
       "  0.6583333611488342,\n",
       "  0.6666666865348816,\n",
       "  0.6583333611488342,\n",
       "  0.6666666865348816,\n",
       "  0.6666666865348816,\n",
       "  0.6833333373069763,\n",
       "  0.6916666626930237,\n",
       "  0.6833333373069763,\n",
       "  0.6916666626930237,\n",
       "  0.6916666626930237,\n",
       "  0.6833333373069763,\n",
       "  0.6916666626930237,\n",
       "  0.699999988079071,\n",
       "  0.699999988079071,\n",
       "  0.7083333134651184,\n",
       "  0.7083333134651184,\n",
       "  0.7083333134651184,\n",
       "  0.7250000238418579,\n",
       "  0.7166666388511658,\n",
       "  0.7250000238418579,\n",
       "  0.7333333492279053,\n",
       "  0.75,\n",
       "  0.75,\n",
       "  0.75,\n",
       "  0.75,\n",
       "  0.7583333253860474,\n",
       "  0.7583333253860474,\n",
       "  0.7583333253860474,\n",
       "  0.7583333253860474,\n",
       "  0.7583333253860474,\n",
       "  0.7583333253860474,\n",
       "  0.7583333253860474,\n",
       "  0.7583333253860474,\n",
       "  0.7583333253860474,\n",
       "  0.7583333253860474,\n",
       "  0.7583333253860474,\n",
       "  0.75,\n",
       "  0.7833333611488342,\n",
       "  0.7749999761581421,\n",
       "  0.7833333611488342,\n",
       "  0.7833333611488342,\n",
       "  0.7916666865348816,\n",
       "  0.7916666865348816,\n",
       "  0.7833333611488342,\n",
       "  0.7916666865348816,\n",
       "  0.8083333373069763,\n",
       "  0.800000011920929,\n",
       "  0.8083333373069763,\n",
       "  0.8083333373069763,\n",
       "  0.8083333373069763,\n",
       "  0.8166666626930237,\n",
       "  0.8166666626930237,\n",
       "  0.8166666626930237,\n",
       "  0.824999988079071,\n",
       "  0.824999988079071,\n",
       "  0.824999988079071,\n",
       "  0.824999988079071,\n",
       "  0.824999988079071,\n",
       "  0.824999988079071,\n",
       "  0.824999988079071,\n",
       "  0.824999988079071,\n",
       "  0.824999988079071,\n",
       "  0.824999988079071,\n",
       "  0.824999988079071,\n",
       "  0.824999988079071,\n",
       "  0.824999988079071,\n",
       "  0.824999988079071,\n",
       "  0.824999988079071,\n",
       "  0.824999988079071]}"
      ]
     },
     "execution_count": 16,
     "metadata": {},
     "output_type": "execute_result"
    }
   ],
   "source": [
    "history.history"
   ]
  },
  {
   "cell_type": "markdown",
   "metadata": {},
   "source": [
    "Now visualize the loss over time using `history.history`: "
   ]
  },
  {
   "cell_type": "code",
   "execution_count": 18,
   "metadata": {},
   "outputs": [
    {
     "data": {
      "text/plain": [
       "[Text(0, 0.5, 'Accuracy'), Text(0.5, 0, 'Epoch')]"
      ]
     },
     "execution_count": 18,
     "metadata": {},
     "output_type": "execute_result"
    },
    {
     "data": {
      "image/png": "[encoded data removed]",
      "text/plain": [
       "<Figure size 864x576 with 1 Axes>"
      ]
     },
     "metadata": {
      "needs_background": "light"
     },
     "output_type": "display_data"
    },
    {
     "data": {
      "image/png": "[encoded data removed]",
      "text/plain": [
       "<Figure size 864x576 with 1 Axes>"
      ]
     },
     "metadata": {
      "needs_background": "light"
     },
     "output_type": "display_data"
    }
   ],
   "source": [
    "# The history.history[\"loss\"] entry is a dictionary with as many values as epochs that the\n",
    "# model was trained on. \n",
    "df_loss_acc = pd.DataFrame(history.history)\n",
    "df_loss= df_loss_acc[['loss','val_loss']]\n",
    "df_loss.rename(columns={'loss':'train','val_loss':'validation'},inplace=True)\n",
    "df_acc= df_loss_acc[['accuracy','val_accuracy']]\n",
    "df_acc.rename(columns={'accuracy':'train','val_accuracy':'validation'},inplace=True)\n",
    "df_loss.plot(title='Model loss',figsize=(12,8)).set(xlabel='Epoch',ylabel='Loss')\n",
    "df_acc.plot(title='Model Accuracy',figsize=(12,8)).set(xlabel='Epoch',ylabel='Accuracy')"
   ]
  },
  {
   "cell_type": "markdown",
   "metadata": {},
   "source": [
    "**Congratulations**! You've finished the assignment and built two models: One that recognizes  smiles, and another that recognizes SIGN language with almost 80% accuracy on the test set. In addition to that, you now also understand the applications of two Keras APIs: Sequential and Functional. Nicely done! \n",
    "\n",
    "By now, you know a bit about how the Functional API works and may have glimpsed the possibilities. In your next assignment, you'll really get a feel for its power when you get the opportunity to build a very deep ConvNet, using ResNets! "
   ]
  },
  {
   "cell_type": "markdown",
   "metadata": {},
   "source": [
    "<a name='6'></a>\n",
    "## 6 - Bibliography\n",
    "\n",
    "You're always encouraged to read the official documentation. To that end, you can find the docs for the Sequential and Functional APIs here: \n",
    "\n",
    "https://www.tensorflow.org/guide/keras/sequential_model\n",
    "\n",
    "https://www.tensorflow.org/guide/keras/functional"
   ]
  },
  {
   "cell_type": "code",
   "execution_count": null,
   "metadata": {},
   "outputs": [],
   "source": []
  }
 ],
 "metadata": {
  "coursera": {
   "course_slug": "convolutional-neural-networks",
   "graded_item_id": "bwbJV",
   "launcher_item_id": "0TkXB"
  },
  "kernelspec": {
   "display_name": "Python 3",
   "language": "python",
   "name": "python3"
  },
  "language_info": {
   "codemirror_mode": {
    "name": "ipython",
    "version": 3
   },
   "file_extension": ".py",
   "mimetype": "text/x-python",
   "name": "python",
   "nbconvert_exporter": "python",
   "pygments_lexer": "ipython3",
   "version": "3.9.10 (tags/v3.9.10:f2f3f53, Jan 17 2022, 15:14:21) [MSC v.1929 64 bit (AMD64)]"
  },
  "vscode": {
   "interpreter": {
    "hash": "a9960baf88259386db57c734c8604c8e4ab789688672644b3cf73fda24b112c6"
   }
  }
 },
 "nbformat": 4,
 "nbformat_minor": 2
}
